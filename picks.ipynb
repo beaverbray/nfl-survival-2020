{
 "cells": [
  {
   "cell_type": "markdown",
   "metadata": {},
   "source": [
    "# NFL Elimination Picks"
   ]
  },
  {
   "cell_type": "code",
   "execution_count": 1,
   "metadata": {},
   "outputs": [],
   "source": [
    "import collections\n",
    "import datetime\n",
    "import random\n",
    "import heapq\n",
    "import statistics\n",
    "import typing\n",
    "\n",
    "import parsel\n",
    "import requests\n",
    "import numpy as np\n",
    "import matplotlib.pyplot as plt\n",
    "import pandas as pd"
   ]
  },
  {
   "cell_type": "code",
   "execution_count": 692,
   "metadata": {},
   "outputs": [],
   "source": [
    "NUM_TEAMS = 32\n",
    "NUM_WEEKS = 17\n",
    "\n",
    "# http://www.espn.com/nfl/schedulegrid\n",
    "raw_schedule = '''\n",
    "NFL Schedule Grid\n",
    "TEAM\t1\t2\t3\t4\t5\t6\t7\t8\t9\t10\t11\t12\t13\t14\t15\t16\t17\n",
    "ARI\t@SF\tWSH\tDET\t@CAR\t@NYJ\t@DAL\tSEA\tBYE\tMIA\tBUF\t@SEA\t@NE\tLAR\t@NYG\tPHI\tSF\t@LAR\n",
    "ATL\tSEA\t@DAL\tCHI\t@GB\tCAR\t@MIN\tDET\t@CAR\tDEN\tBYE\t@NO\tLV\tNO\t@LAC\tTB\t@KC\t@TB\n",
    "BAL\tCLE\t@HOU\tKC\t@WSH\tCIN\t@PHI\tPIT\tBYE\t@IND\t@NE\tTEN\t@PIT\tDAL\t@CLE\tJAX\tNYG\t@CIN\n",
    "BUF\tNYJ\t@MIA\tLAR\t@LV\t@TEN\tKC\t@NYJ\tNE\tSEA\t@ARI\tBYE\tLAC\t@SF\tPIT\t@DEN\t@NE\tMIA\n",
    "CAR\tLV\t@TB\t@LAC\tARI\t@ATL\tCHI\t@NO\tATL\t@KC\tTB\tDET\t@MIN\tBYE\tDEN\t@GB\t@WSH\tNO\n",
    "CHI\t@DET\tNYG\t@ATL\tIND\tTB\t@CAR\t@LAR\tNO\t@TEN\tMIN\tBYE\t@GB\tDET\tHOU\t@MIN\t@JAX\tGB\n",
    "CIN\tLAC\t@CLE\t@PHI\tJAX\t@BAL\t@IND\tCLE\tTEN\tBYE\t@PIT\t@WSH\tNYG\t@MIA\tDAL\tPIT\t@HOU\tBAL\n",
    "CLE\t@BAL\tCIN\tWSH\t@DAL\tIND\t@PIT\t@CIN\tLV\tBYE\tHOU\tPHI\t@JAX\t@TEN\tBAL\t@NYG\t@NYJ\tPIT\n",
    "DAL\t@LAR\tATL\t@SEA\tCLE\tNYG\tARI\t@WSH\t@PHI\tPIT\tBYE\t@MIN\tWSH\t@BAL\t@CIN\tSF\tPHI\t@NYG\n",
    "DEN\tTEN\t@PIT\tTB\t@NYJ\t@NE\tMIA\tKC\tBYE\t@ATL\t@LV\tLAC\tNO\t@KC\t@CAR\tBUF\t@LAC\tLV\n",
    "DET\tCHI\t@GB\t@ARI\tNO\tBYE\t@JAX\t@ATL\tIND\t@MIN\tWSH\t@CAR\tHOU\t@CHI\tGB\t@TEN\tTB\tMIN\n",
    "GB\t@MIN\tDET\t@NO\tATL\tBYE\t@TB\t@HOU\tMIN\t@SF\tJAX\t@IND\tCHI\tPHI\t@DET\tCAR\tTEN\t@CHI\n",
    "HOU\t@KC\tBAL\t@PIT\tMIN\tJAX\t@TEN\tGB\tBYE\t@JAX\t@CLE\tNE\t@DET\tIND\t@CHI\t@IND\tCIN\tTEN\n",
    "IND\t@JAX\tMIN\tNYJ\t@CHI\t@CLE\tCIN\tBYE\t@DET\tBAL\t@TEN\tGB\tTEN\t@HOU\t@LV\tHOU\t@PIT\tJAX\n",
    "JAX\tIND\t@TEN\tMIA\t@CIN\t@HOU\tDET\tBYE\t@LAC\tHOU\t@GB\tPIT\tCLE\t@MIN\tTEN\t@BAL\tCHI\t@IND\n",
    "KC\tHOU\t@LAC\t@BAL\tNE\tLV\t@BUF\t@DEN\tNYJ\tCAR\tBYE\t@LV\t@TB\tDEN\t@MIA\t@NO\tATL\tLAC\n",
    "LV\t@CAR\tNO\t@NE\tBUF\t@KC\tBYE\tTB\t@CLE\t@LAC\tDEN\tKC\t@ATL\t@NYJ\tIND\tLAC\tMIA\t@DEN\n",
    "LAR\tDAL\t@PHI\t@BUF\tNYG\t@WSH\t@SF\tCHI\t@MIA\tBYE\tSEA\t@TB\tSF\t@ARI\tNE\tNYJ\t@SEA\tARI\n",
    "LAC\t@CIN\tKC\tCAR\t@TB\t@NO\tNYJ\t@MIA\tJAX\tLV\tBYE\t@DEN\t@BUF\tNE\tATL\t@LV\tDEN\t@KC\n",
    "MIA\t@NE\tBUF\t@JAX\tSEA\t@SF\t@DEN\tLAC\tLAR\t@ARI\tNYJ\tBYE\t@NYJ\tCIN\tKC\tNE\t@LV\t@BUF\n",
    "MIN\tGB\t@IND\tTEN\t@HOU\t@SEA\tATL\tBYE\t@GB\tDET\t@CHI\tDAL\tCAR\tJAX\t@TB\tCHI\t@NO\t@DET\n",
    "NE\tMIA\t@SEA\tLV\t@KC\tDEN\tBYE\tSF\t@BUF\t@NYJ\tBAL\t@HOU\tARI\t@LAC\t@LAR\t@MIA\tBUF\tNYJ\n",
    "NO\tTB\t@LV\tGB\t@DET\tLAC\tBYE\tCAR\t@CHI\t@TB\tSF\tATL\t@DEN\t@ATL\t@PHI\tKC\tMIN\t@CAR\n",
    "NYG\tPIT\t@CHI\tSF\t@LAR\t@DAL\tWSH\t@PHI\tTB\t@WSH\tPHI\tBYE\t@CIN\t@SEA\tARI\tCLE\t@BAL\tDAL\n",
    "NYJ\t@BUF\tSF\t@IND\tDEN\tARI\t@LAC\tBUF\t@KC\tNE\t@MIA\tBYE\tMIA\tLV\t@SEA\t@LAR\tCLE\t@NE\n",
    "PHI\t@WSH\tLAR\tCIN\t@SF\t@PIT\tBAL\tNYG\tDAL\tBYE\t@NYG\t@CLE\tSEA\t@GB\tNO\t@ARI\t@DAL\tWSH\n",
    "PIT\t@NYG\tDEN\tHOU\t@TEN\tPHI\tCLE\t@BAL\tBYE\t@DAL\tCIN\t@JAX\tBAL\tWSH\t@BUF\t@CIN\tIND\t@CLE\n",
    "SF\tARI\t@NYJ\t@NYG\tPHI\tMIA\tLAR\t@NE\t@SEA\tGB\t@NO\tBYE\t@LAR\tBUF\tWSH\t@DAL\t@ARI\tSEA\n",
    "SEA\t@ATL\tNE\tDAL\t@MIA\tMIN\tBYE\t@ARI\tSF\t@BUF\t@LAR\tARI\t@PHI\tNYG\tNYJ\t@WSH\tLAR\t@SF\n",
    "TB\t@NO\tCAR\t@DEN\tLAC\t@CHI\tGB\t@LV\t@NYG\tNO\t@CAR\tLAR\tKC\tBYE\tMIN\t@ATL\t@DET\tATL\n",
    "TEN\t@DEN\tJAX\t@MIN\tPIT\tBUF\tHOU\tBYE\t@CIN\tCHI\tIND\t@BAL\t@IND\tCLE\t@JAX\tDET\t@GB\t@HOU\n",
    "WSH\tPHI\t@ARI\t@CLE\tBAL\tLAR\t@NYG\tDAL\tBYE\tNYG\t@DET\tCIN\t@DAL\t@PIT\t@SF\tSEA\tCAR\t@PHI\n",
    "'''\n",
    "\n",
    "class Match(collections.namedtuple(\"Match\", \"home away\")):\n",
    "    def __repr__(self):\n",
    "        return f\"<{self.__class__.__name__}: {self.away} @ {self.home}>\"\n",
    "    \n",
    "# Match(\"NY\", \"NJ\")\n",
    "\n",
    "lines = raw_schedule.strip().splitlines()\n",
    "team_lines = lines[2:]\n",
    "schedule = {}\n",
    "games_per_team = collections.Counter()\n",
    "for tl in team_lines:\n",
    "    cols = tl.split(\"\\t\")\n",
    "    assert len(cols) == 18\n",
    "    \n",
    "    team = cols[0]\n",
    "    for n_wk, match in enumerate(cols[1:], start=1):\n",
    "        if match == \"BYE\":\n",
    "            continue\n",
    "        schedule.setdefault(n_wk, [])\n",
    "        games_per_team[match.strip(\"@\")] += 1\n",
    "        if match.startswith(\"@\"):\n",
    "            continue  # skip to avoid double counts\n",
    "        schedule[n_wk].append(Match(team, match))\n",
    "    \n",
    "assert all(n == 16 for n in games_per_team.values())"
   ]
  },
  {
   "cell_type": "code",
   "execution_count": 688,
   "metadata": {},
   "outputs": [],
   "source": [
    "def get_espn_powers():\n",
    "    data = requests.get(\"https://www.espn.com/nfl/fpi\")\n",
    "    selector = parsel.Selector(data.text)\n",
    "    data_table = selector.xpath(\"//div[@class='Table__Scroller']/table\")\n",
    "\n",
    "    tables = selector.xpath(\"//div[contains(concat(' ', @class, ' '), ' league-nfl ')]//table\")\n",
    "    assert len(tables) == 2\n",
    "    name_table, data_table = tables\n",
    "\n",
    "    club_table = {}\n",
    "    for club in name_table.xpath(\"descendant::*[@data-idx]\"):\n",
    "        club_idx = club.xpath(\"@data-idx\").extract_first()\n",
    "        club_url = club.xpath(\"descendant::*[@data-clubhouse-uid]/@href\")\n",
    "        url = club_url.extract_first()\n",
    "        parts = url.split(\"/\")\n",
    "        assert parts[4] == \"name\"\n",
    "        club_table[parts[5].strip().upper()] = int(club_idx)\n",
    "\n",
    "    assert len(club_table) == NUM_TEAMS\n",
    "\n",
    "    powers = {}\n",
    "    for club, idx in club_table.items():\n",
    "        xq = f\"tbody/*[@data-idx='{idx}']\"\n",
    "        r = data_table.xpath(xq)\n",
    "        cols = r.xpath(\"td/div/text()\")\n",
    "        pwr = float(cols[1].extract())\n",
    "        powers[club] = pwr\n",
    "\n",
    "    assert set(powers) == set(club_table)\n",
    "    \n",
    "    return powers\n",
    "\n",
    "powers = get_espn_powers()"
   ]
  },
  {
   "cell_type": "code",
   "execution_count": 718,
   "metadata": {},
   "outputs": [],
   "source": [
    "def print_powers(powers):\n",
    "    teams = [tuple(p) for p in powers.items()]\n",
    "    teams.sort(key=lambda p: p[1], reverse=True)\n",
    "    print(\" \".join(\"{:3s}\".format(p[0]) for p in teams))"
   ]
  },
  {
   "cell_type": "code",
   "execution_count": 728,
   "metadata": {},
   "outputs": [
    {
     "name": "stdout",
     "output_type": "stream",
     "text": [
      "2020-09-14T17:57:27.899335\n"
     ]
    },
    {
     "data": {
      "text/html": [
       "<div>\n",
       "<style scoped>\n",
       "    .dataframe tbody tr th:only-of-type {\n",
       "        vertical-align: middle;\n",
       "    }\n",
       "\n",
       "    .dataframe tbody tr th {\n",
       "        vertical-align: top;\n",
       "    }\n",
       "\n",
       "    .dataframe thead th {\n",
       "        text-align: right;\n",
       "    }\n",
       "</style>\n",
       "<table border=\"1\" class=\"dataframe\">\n",
       "  <thead>\n",
       "    <tr style=\"text-align: right;\">\n",
       "      <th></th>\n",
       "      <th>0</th>\n",
       "      <th>1</th>\n",
       "    </tr>\n",
       "  </thead>\n",
       "  <tbody>\n",
       "    <tr>\n",
       "      <th>0</th>\n",
       "      <td>KC</td>\n",
       "      <td>7.4</td>\n",
       "    </tr>\n",
       "    <tr>\n",
       "      <th>1</th>\n",
       "      <td>BAL</td>\n",
       "      <td>6.0</td>\n",
       "    </tr>\n",
       "    <tr>\n",
       "      <th>2</th>\n",
       "      <td>NO</td>\n",
       "      <td>5.3</td>\n",
       "    </tr>\n",
       "    <tr>\n",
       "      <th>3</th>\n",
       "      <td>SF</td>\n",
       "      <td>4.9</td>\n",
       "    </tr>\n",
       "    <tr>\n",
       "      <th>4</th>\n",
       "      <td>DAL</td>\n",
       "      <td>2.8</td>\n",
       "    </tr>\n",
       "    <tr>\n",
       "      <th>5</th>\n",
       "      <td>SEA</td>\n",
       "      <td>2.6</td>\n",
       "    </tr>\n",
       "    <tr>\n",
       "      <th>6</th>\n",
       "      <td>TB</td>\n",
       "      <td>2.6</td>\n",
       "    </tr>\n",
       "    <tr>\n",
       "      <th>7</th>\n",
       "      <td>PHI</td>\n",
       "      <td>2.5</td>\n",
       "    </tr>\n",
       "    <tr>\n",
       "      <th>8</th>\n",
       "      <td>BUF</td>\n",
       "      <td>1.8</td>\n",
       "    </tr>\n",
       "    <tr>\n",
       "      <th>9</th>\n",
       "      <td>NE</td>\n",
       "      <td>1.6</td>\n",
       "    </tr>\n",
       "    <tr>\n",
       "      <th>10</th>\n",
       "      <td>PIT</td>\n",
       "      <td>1.3</td>\n",
       "    </tr>\n",
       "    <tr>\n",
       "      <th>11</th>\n",
       "      <td>LAR</td>\n",
       "      <td>1.0</td>\n",
       "    </tr>\n",
       "    <tr>\n",
       "      <th>12</th>\n",
       "      <td>MIN</td>\n",
       "      <td>0.8</td>\n",
       "    </tr>\n",
       "    <tr>\n",
       "      <th>13</th>\n",
       "      <td>GB</td>\n",
       "      <td>0.6</td>\n",
       "    </tr>\n",
       "    <tr>\n",
       "      <th>14</th>\n",
       "      <td>IND</td>\n",
       "      <td>0.3</td>\n",
       "    </tr>\n",
       "    <tr>\n",
       "      <th>15</th>\n",
       "      <td>TEN</td>\n",
       "      <td>-0.0</td>\n",
       "    </tr>\n",
       "    <tr>\n",
       "      <th>16</th>\n",
       "      <td>ATL</td>\n",
       "      <td>-0.1</td>\n",
       "    </tr>\n",
       "    <tr>\n",
       "      <th>17</th>\n",
       "      <td>DEN</td>\n",
       "      <td>-0.2</td>\n",
       "    </tr>\n",
       "    <tr>\n",
       "      <th>18</th>\n",
       "      <td>CLE</td>\n",
       "      <td>-0.2</td>\n",
       "    </tr>\n",
       "    <tr>\n",
       "      <th>19</th>\n",
       "      <td>LAC</td>\n",
       "      <td>-0.7</td>\n",
       "    </tr>\n",
       "    <tr>\n",
       "      <th>20</th>\n",
       "      <td>LV</td>\n",
       "      <td>-1.1</td>\n",
       "    </tr>\n",
       "    <tr>\n",
       "      <th>21</th>\n",
       "      <td>ARI</td>\n",
       "      <td>-1.2</td>\n",
       "    </tr>\n",
       "    <tr>\n",
       "      <th>22</th>\n",
       "      <td>CHI</td>\n",
       "      <td>-1.3</td>\n",
       "    </tr>\n",
       "    <tr>\n",
       "      <th>23</th>\n",
       "      <td>HOU</td>\n",
       "      <td>-1.4</td>\n",
       "    </tr>\n",
       "    <tr>\n",
       "      <th>24</th>\n",
       "      <td>NYJ</td>\n",
       "      <td>-2.0</td>\n",
       "    </tr>\n",
       "    <tr>\n",
       "      <th>25</th>\n",
       "      <td>DET</td>\n",
       "      <td>-3.1</td>\n",
       "    </tr>\n",
       "    <tr>\n",
       "      <th>26</th>\n",
       "      <td>NYG</td>\n",
       "      <td>-3.7</td>\n",
       "    </tr>\n",
       "    <tr>\n",
       "      <th>27</th>\n",
       "      <td>MIA</td>\n",
       "      <td>-4.0</td>\n",
       "    </tr>\n",
       "    <tr>\n",
       "      <th>28</th>\n",
       "      <td>CAR</td>\n",
       "      <td>-4.6</td>\n",
       "    </tr>\n",
       "    <tr>\n",
       "      <th>29</th>\n",
       "      <td>CIN</td>\n",
       "      <td>-4.9</td>\n",
       "    </tr>\n",
       "    <tr>\n",
       "      <th>30</th>\n",
       "      <td>WSH</td>\n",
       "      <td>-5.5</td>\n",
       "    </tr>\n",
       "    <tr>\n",
       "      <th>31</th>\n",
       "      <td>JAX</td>\n",
       "      <td>-7.5</td>\n",
       "    </tr>\n",
       "  </tbody>\n",
       "</table>\n",
       "</div>"
      ],
      "text/plain": [
       "      0    1\n",
       "0    KC  7.4\n",
       "1   BAL  6.0\n",
       "2    NO  5.3\n",
       "3    SF  4.9\n",
       "4   DAL  2.8\n",
       "5   SEA  2.6\n",
       "6    TB  2.6\n",
       "7   PHI  2.5\n",
       "8   BUF  1.8\n",
       "9    NE  1.6\n",
       "10  PIT  1.3\n",
       "11  LAR  1.0\n",
       "12  MIN  0.8\n",
       "13   GB  0.6\n",
       "14  IND  0.3\n",
       "15  TEN -0.0\n",
       "16  ATL -0.1\n",
       "17  DEN -0.2\n",
       "18  CLE -0.2\n",
       "19  LAC -0.7\n",
       "20   LV -1.1\n",
       "21  ARI -1.2\n",
       "22  CHI -1.3\n",
       "23  HOU -1.4\n",
       "24  NYJ -2.0\n",
       "25  DET -3.1\n",
       "26  NYG -3.7\n",
       "27  MIA -4.0\n",
       "28  CAR -4.6\n",
       "29  CIN -4.9\n",
       "30  WSH -5.5\n",
       "31  JAX -7.5"
      ]
     },
     "execution_count": 728,
     "metadata": {},
     "output_type": "execute_result"
    }
   ],
   "source": [
    "print(datetime.datetime.now().isoformat())\n",
    "pd.DataFrame(powers.items())"
   ]
  },
  {
   "cell_type": "code",
   "execution_count": 730,
   "metadata": {},
   "outputs": [],
   "source": [
    "# check schedule names match power names\n",
    "assert set(powers) == set(games_per_team)"
   ]
  },
  {
   "cell_type": "code",
   "execution_count": 224,
   "metadata": {},
   "outputs": [],
   "source": [
    "HOME_POWER_BUMP = 3.0\n",
    "\n",
    "verb_template = \"week {wk:2d}: diff {d:+5.1f} - picking {p:3s} ({ps:+3.1f}%PH%) over {vp:3s} ({vps:+3.1f}%VPH%)\"\n",
    "\n",
    "\n",
    "def pick_power_calculator(powers, schedule, picks, home_power=HOME_POWER_BUMP, verbose=False):\n",
    "    if len(picks) != 17:\n",
    "        raise ValueError(\"17 weeks of picks needed\")\n",
    "    if len(set(picks)) != 17:\n",
    "        raise ValueError(\"unique picks needed\")\n",
    "    if not all(p in powers for p in picks):\n",
    "        raise ValueError(\"unrecognized team initials\")\n",
    "        \n",
    "    pick_powers = []\n",
    "    for n_week, pick in zip(sorted(schedule), picks):\n",
    "        wk_sched = schedule[n_week]\n",
    "        for match in wk_sched:\n",
    "            if match.home == pick:\n",
    "                pick_powers.append(powers[match.home] - powers[match.away] + home_power)\n",
    "                if verbose:\n",
    "                    print(verb_template.replace(\"%PH%\", \"+H\").replace(\"%VPH%\", \"  \").format(\n",
    "                        wk=n_week,\n",
    "                        d = pick_powers[-1],\n",
    "                        p=match.home,\n",
    "                        ps=powers[match.home],\n",
    "                        vp=match.away,\n",
    "                        vps=powers[match.away],\n",
    "                        \n",
    "                    ))\n",
    "                break\n",
    "            if match.away == pick:\n",
    "                pick_powers.append(powers[match.away] - powers[match.home] - home_power)\n",
    "                if verbose:\n",
    "                    print(verb_template.replace(\"%VPH%\", \"+H\").replace(\"%PH%\", \"  \").format(\n",
    "                        wk=n_week,\n",
    "                        d = pick_powers[-1],\n",
    "                        vp=match.home,\n",
    "                        vps=powers[match.home],\n",
    "                        p=match.away,\n",
    "                        ps=powers[match.away],\n",
    "                        \n",
    "                    ))\n",
    "                break\n",
    "        else:\n",
    "            raise ValueError(f\"team {pick} does not play in week {n_week}\")\n",
    "    return pick_powers       \n",
    "\n",
    "\n",
    "def pick_grid(powers, schedule, home_bump=HOME_POWER_BUMP):\n",
    "    matrix = []\n",
    "    \n",
    "    index = sorted(powers, key=lambda x: powers[x])\n",
    "    \n",
    "    for n_week, matches in sorted(schedule.items()):\n",
    "        teams = {}\n",
    "        for match in matches:\n",
    "            teams[match.home] = powers[match.home] - powers[match.away] + home_bump\n",
    "            teams[match.away] = powers[match.away] - powers[match.home] - home_bump\n",
    "        week_col = [teams.get(t, -10) for t in power_rank]\n",
    "        matrix.append(week_col)\n",
    "    return index, matrix\n"
   ]
  },
  {
   "cell_type": "code",
   "execution_count": 226,
   "metadata": {},
   "outputs": [
    {
     "name": "stdout",
     "output_type": "stream",
     "text": [
      "week  1: diff  +1.7 - picking LAC (-0.7  ) over CIN (-5.4+H)\n",
      "week  2: diff  +5.6 - picking CHI (-0.8+H) over NYG (-3.4  )\n",
      "week  3: diff  +5.9 - picking SF  (+5.5  ) over NYG (-3.4+H)\n",
      "week  4: diff  +8.7 - picking BAL (+6.1  ) over WSH (-5.6+H)\n",
      "week  5: diff +11.9 - picking KC  (+7.4+H) over LV  (-1.5  )\n",
      "week  6: diff  +4.5 - picking PIT (+1.1+H) over CLE (-0.4  )\n",
      "week  7: diff  -2.0 - picking CIN (-5.4+H) over CLE (-0.4  )\n",
      "week  8: diff  -1.7 - picking CAR (-5.0+H) over ATL (-0.3  )\n",
      "week  9: diff  +3.0 - picking HOU (-1.5  ) over JAX (-7.5+H)\n",
      "week 10: diff  -4.6 - picking WSH (-5.6  ) over DET (-4.0+H)\n",
      "week 11: diff  +0.6 - picking NE  (+2.1  ) over HOU (-1.5+H)\n",
      "week 12: diff  -1.0 - picking NYG (-3.4  ) over CIN (-5.4+H)\n",
      "week 13: diff +11.4 - picking MIN (+0.9+H) over JAX (-7.5  )\n",
      "week 14: diff  +3.8 - picking BUF (+1.9+H) over PIT (+1.1  )\n",
      "week 15: diff  +0.8 - picking PHI (+2.7  ) over ARI (-1.1+H)\n",
      "week 16: diff  -4.0 - picking IND (+0.1  ) over PIT (+1.1+H)\n",
      "week 17: diff  +3.3 - picking DAL (+2.9  ) over NYG (-3.4+H)\n"
     ]
    },
    {
     "data": {
      "text/plain": [
       "[1.7000000000000002,\n",
       " 5.6,\n",
       " 5.9,\n",
       " 8.7,\n",
       " 11.9,\n",
       " 4.5,\n",
       " -2.0,\n",
       " -1.7000000000000002,\n",
       " 3.0,\n",
       " -4.6,\n",
       " 0.6000000000000001,\n",
       " -0.9999999999999996,\n",
       " 11.4,\n",
       " 3.8,\n",
       " 0.8000000000000003,\n",
       " -4.0,\n",
       " 3.3]"
      ]
     },
     "execution_count": 226,
     "metadata": {},
     "output_type": "execute_result"
    }
   ],
   "source": [
    "random_pick = random.sample(list(powers), k=17)\n",
    "pick_power_calculator(powers, schedule, random_pick, verbose=True)"
   ]
  },
  {
   "cell_type": "code",
   "execution_count": 228,
   "metadata": {},
   "outputs": [
    {
     "name": "stdout",
     "output_type": "stream",
     "text": [
      "week  1: diff +11.9 - picking KC  (+7.4+H) over HOU (-1.5  )\n",
      "week  2: diff  +4.6 - picking BAL (+6.1  ) over HOU (-1.5+H)\n",
      "week  3: diff  +5.9 - picking SF  (+5.5  ) over NYG (-3.4+H)\n",
      "week  4: diff  +6.3 - picking NO  (+5.3  ) over DET (-4.0+H)\n",
      "week  5: diff  +9.3 - picking DAL (+2.9+H) over NYG (-3.4  )\n",
      "week  6: diff  -0.4 - picking PHI (+2.7+H) over BAL (+6.1  )\n",
      "week  7: diff  +0.8 - picking SEA (+2.7  ) over ARI (-1.1+H)\n",
      "week  8: diff  +2.9 - picking TB  (+2.5  ) over NYG (-3.4+H)\n",
      "week  9: diff  +0.8 - picking NE  (+2.1  ) over NYJ (-1.7+H)\n",
      "week 10: diff  +0.0 - picking BUF (+1.9  ) over ARI (-1.1+H)\n",
      "week 11: diff  -3.9 - picking LAR (+1.6  ) over TB  (+2.5+H)\n",
      "week 12: diff  -2.0 - picking PIT (+1.1+H) over BAL (+6.1  )\n",
      "week 13: diff +11.4 - picking MIN (+0.9+H) over JAX (-7.5  )\n",
      "week 14: diff  -1.4 - picking IND (+0.1  ) over LV  (-1.5+H)\n",
      "week 15: diff  +8.0 - picking GB  (+0.0+H) over CAR (-5.0  )\n",
      "week 16: diff  -3.2 - picking TEN (-0.2  ) over GB  (+0.0+H)\n",
      "week 17: diff  +4.3 - picking DEN (-0.2+H) over LV  (-1.5  )\n"
     ]
    },
    {
     "data": {
      "text/plain": [
       "[11.9,\n",
       " 4.6,\n",
       " 5.9,\n",
       " 6.300000000000001,\n",
       " 9.3,\n",
       " -0.39999999999999947,\n",
       " 0.8000000000000003,\n",
       " 2.9000000000000004,\n",
       " 0.7999999999999998,\n",
       " 0.0,\n",
       " -3.9,\n",
       " -2.0,\n",
       " 11.4,\n",
       " -1.4,\n",
       " 8.0,\n",
       " -3.2,\n",
       " 4.3]"
      ]
     },
     "execution_count": 228,
     "metadata": {},
     "output_type": "execute_result"
    }
   ],
   "source": [
    "top_picks = list(powers)[:17]\n",
    "pick_power_calculator(powers, schedule, top_picks, verbose=True)"
   ]
  },
  {
   "cell_type": "code",
   "execution_count": 289,
   "metadata": {},
   "outputs": [
    {
     "name": "stdout",
     "output_type": "stream",
     "text": [
      "new high score, round    106188, fitness=+12.2\n",
      "new high score, round    199061, fitness=+37.5\n",
      "new high score, round    246275, fitness=+84.3\n",
      "new high score, round   1678616, fitness=+87.8\n",
      "new high score, round   1771856, fitness=+122.4\n",
      "new high score, round  14186757, fitness=+128.1\n",
      "new high score, round  63805819, fitness=+146.1\n"
     ]
    }
   ],
   "source": [
    "top_picks = list(powers)[:17]\n",
    "best_pick = None\n",
    "best_pick_fitness = -100\n",
    "\n",
    "def fitness(scores):\n",
    "    return 100 * min(scores) + sum(scores)\n",
    "\n",
    "def fitness(scores):\n",
    "    return 50 * (min(scores) - 3) + sum(scores)\n",
    "\n",
    "picks = []\n",
    "\n",
    "HOME_POWER_BUMP = 6.0\n",
    "\n",
    "for n in range(100_000_000):\n",
    "    this_pick = top_picks[:]\n",
    "    random.shuffle(this_pick)\n",
    "    try:\n",
    "        scores = pick_power_calculator(powers, schedule, this_pick)\n",
    "    except ValueError:\n",
    "        continue\n",
    "    \n",
    "    pick_fitness = fitness(scores)\n",
    "    \n",
    "    if pick_fitness < 0:\n",
    "        continue\n",
    "\n",
    "    picks.append([min(scores), sum(scores)])\n",
    "    \n",
    "    if pick_fitness < best_pick_fitness:\n",
    "        continue\n",
    "    \n",
    "    print(\"new high score, round {:>9d}, fitness={:+3.1f}\".format(n, pick_fitness))\n",
    "    best_pick = this_pick\n",
    "    best_scores = scores\n",
    "    best_pick_fitness = pick_fitness\n"
   ]
  },
  {
   "cell_type": "code",
   "execution_count": 277,
   "metadata": {},
   "outputs": [
    {
     "name": "stdout",
     "output_type": "stream",
     "text": [
      "week  1: diff  +5.8 - picking NO  (+5.3+H) over TB  (+2.5  )\n",
      "week  2: diff +10.3 - picking TEN (-0.2+H) over JAX (-7.5  )\n",
      "week  3: diff  +5.6 - picking PIT (+1.1+H) over HOU (-1.5  )\n",
      "week  4: diff  +3.4 - picking SEA (+2.7  ) over MIA (-3.7+H)\n",
      "week  5: diff  +5.3 - picking NE  (+2.1+H) over DEN (-0.2  )\n",
      "week  6: diff  +6.9 - picking SF  (+5.5+H) over LAR (+1.6  )\n",
      "week  7: diff  +5.4 - picking LAR (+1.6+H) over CHI (-0.8  )\n",
      "week  8: diff +12.1 - picking KC  (+7.4+H) over NYJ (-1.7  )\n",
      "week  9: diff  +4.8 - picking DAL (+2.9+H) over PIT (+1.1  )\n",
      "week 10: diff  +4.5 - picking TB  (+2.5  ) over CAR (-5.0+H)\n",
      "week 11: diff  +3.5 - picking DEN (-0.2+H) over LAC (-0.7  )\n",
      "week 12: diff  +3.3 - picking IND (+0.1+H) over TEN (-0.2  )\n",
      "week 13: diff +11.4 - picking MIN (+0.9+H) over JAX (-7.5  )\n",
      "week 14: diff  +3.8 - picking BUF (+1.9+H) over PIT (+1.1  )\n",
      "week 15: diff  +8.0 - picking GB  (+0.0+H) over CAR (-5.0  )\n",
      "week 16: diff +12.5 - picking BAL (+6.1+H) over NYG (-3.4  )\n",
      "week 17: diff +11.3 - picking PHI (+2.7+H) over WSH (-5.6  )\n"
     ]
    },
    {
     "data": {
      "text/plain": [
       "[5.8,\n",
       " 10.3,\n",
       " 5.6,\n",
       " 3.4000000000000004,\n",
       " 5.300000000000001,\n",
       " 6.9,\n",
       " 5.4,\n",
       " 12.1,\n",
       " 4.8,\n",
       " 4.5,\n",
       " 3.5,\n",
       " 3.3,\n",
       " 11.4,\n",
       " 3.8,\n",
       " 8.0,\n",
       " 12.5,\n",
       " 11.3]"
      ]
     },
     "execution_count": 277,
     "metadata": {},
     "output_type": "execute_result"
    }
   ],
   "source": [
    "pick_power_calculator(powers, schedule, best_pick, verbose=True)"
   ]
  },
  {
   "cell_type": "code",
   "execution_count": 281,
   "metadata": {},
   "outputs": [],
   "source": [
    "from matplotlib import pyplot as plt"
   ]
  },
  {
   "cell_type": "code",
   "execution_count": 290,
   "metadata": {},
   "outputs": [],
   "source": [
    "best_scores = pick_power_calculator(powers, schedule, best_pick)\n",
    "best_point = [min(best_scores), sum(best_scores)]"
   ]
  },
  {
   "cell_type": "code",
   "execution_count": 442,
   "metadata": {
    "scrolled": true
   },
   "outputs": [
    {
     "data": {
      "text/plain": [
       "<matplotlib.collections.PathCollection at 0x7f35f0f0bb50>"
      ]
     },
     "execution_count": 442,
     "metadata": {},
     "output_type": "execute_result"
    },
    {
     "data": {
      "image/png": "[encoded data removed]",
      "text/plain": [
       "<Figure size 432x288 with 1 Axes>"
      ]
     },
     "metadata": {
      "needs_background": "light"
     },
     "output_type": "display_data"
    }
   ],
   "source": [
    "f, ax = plt.subplots()\n",
    "ax.scatter(*zip(*picks), alpha=0.01)\n",
    "\n",
    "ax.scatter(*best_point, color=\"xkcd:orange\")"
   ]
  },
  {
   "cell_type": "code",
   "execution_count": 711,
   "metadata": {
    "scrolled": false
   },
   "outputs": [
    {
     "data": {
      "text/plain": [
       "(<Figure size 576x720 with 2 Axes>,\n",
       " <matplotlib.axes._subplots.AxesSubplot at 0x7f35d04a44c0>)"
      ]
     },
     "execution_count": 711,
     "metadata": {},
     "output_type": "execute_result"
    },
    {
     "data": {
      "image/png": "[encoded data removed]",
      "text/plain": [
       "<Figure size 576x720 with 2 Axes>"
      ]
     },
     "metadata": {
      "needs_background": "light"
     },
     "output_type": "display_data"
    }
   ],
   "source": [
    "power_rank, matrix = pick_grid(powers, schedule, home_bump=3)\n",
    "\n",
    "def plot_matrix(matrix, power_rank, cmap=\"bwr_r\"):\n",
    "    f, ax = plt.subplots()\n",
    "    f.set_size_inches((8, 10))\n",
    "    imshow = ax.imshow(np.array(matrix).T, vmax=8, vmin=-8, cmap=cmap, origin=\"lower\")\n",
    "    ax.xaxis.set_ticks(list(range(17)))\n",
    "    ax.xaxis.set_ticklabels(list(range(1, 18)))\n",
    "    ax.xaxis.set_label_text(\"Week\")\n",
    "    ax.yaxis.set_ticks(list(range(32)))\n",
    "    ax.yaxis.set_ticklabels(power_rank)\n",
    "    ax.yaxis.set_label_text(\"Pick to Win\")\n",
    "\n",
    "    f.colorbar(imshow)\n",
    "    \n",
    "    return f, ax\n",
    "\n",
    "\n",
    "plot_matrix(matrix, power_rank)"
   ]
  },
  {
   "cell_type": "code",
   "execution_count": 714,
   "metadata": {},
   "outputs": [
    {
     "data": {
      "text/plain": [
       "(<Figure size 576x720 with 2 Axes>,\n",
       " <matplotlib.axes._subplots.AxesSubplot at 0x7f35d02a03a0>)"
      ]
     },
     "execution_count": 714,
     "metadata": {},
     "output_type": "execute_result"
    },
    {
     "data": {
      "image/png": "[encoded data removed]",
      "text/plain": [
       "<Figure size 576x720 with 2 Axes>"
      ]
     },
     "metadata": {
      "needs_background": "light"
     },
     "output_type": "display_data"
    }
   ],
   "source": [
    "plot_matrix(*reversed(pick_grid(powers, schedule, home_bump=3)), cmap=\"PiYG\")"
   ]
  },
  {
   "cell_type": "code",
   "execution_count": 685,
   "metadata": {},
   "outputs": [],
   "source": [
    "class PickPermuter:\n",
    "    def __init__(self, powers, schedule, home_bump=HOME_POWER_BUMP):\n",
    "        self.powers = powers\n",
    "        \n",
    "        self.schedule = schedule\n",
    "        self.home_bump = home_bump\n",
    "        \n",
    "        self.update_pick_grid()\n",
    "        \n",
    "        self.pick = self.greedy()\n",
    "        \n",
    "    def update_pick_grid(self):\n",
    "        self.grid_index, self.grid = pick_grid(self.powers, self.schedule, self.home_bump)\n",
    "\n",
    "    def __repr__(self):\n",
    "        score = self.pick_score\n",
    "#         return \"<{}\\n {}\\n {}\\n min={}, avg={}, max={}>\".format(\n",
    "        return \"<{}\\n {}\\n min={}, avg={}, max={}>\".format(\n",
    "            self.__class__.__name__,\n",
    "            \", \".join(f\"{p:>2s}\" for p in self.pick),\n",
    "#             \", \".join(f\"{p:>5s}\" for p in self.pick),\n",
    "#             \", \".join(f\"{s:>+4.1f}\" for s in score),\n",
    "            min(self.pick_score),\n",
    "            statistics.mean(self.pick_score),\n",
    "            max(self.pick_score),\n",
    "        )\n",
    "        \n",
    "    def greedy(self):\n",
    "        picks = []\n",
    "        for week in self.grid:\n",
    "            best_picks = sorted(list(zip(week, self.grid_index)), reverse=True)\n",
    "            for _score, pick in best_picks:\n",
    "                if pick not in picks:\n",
    "                    picks.append(pick)\n",
    "                    break\n",
    "            else:\n",
    "                raise RuntimeError()\n",
    "        assert len(picks) == len(self.grid) == 17\n",
    "        return picks\n",
    "    \n",
    "    def limited_greedy(self, limit=10):\n",
    "        picks = []\n",
    "        for week in self.grid:\n",
    "            worst_picks = sorted(list(zip(week, self.grid_index)))\n",
    "            pivot_index = bisect.bisect_left(worst_picks, (limit, \"X\"))\n",
    "            order = (worst_picks[pivot_index:] + list(reversed(worst_picks[:pivot_index])))\n",
    "            for _score, pick in order:\n",
    "                if pick not in picks:\n",
    "                    picks.append(pick)\n",
    "                    break\n",
    "            else:\n",
    "                raise RuntimeError()\n",
    "        assert len(picks) == len(self.grid) == 17\n",
    "        return picks\n",
    "    \n",
    "    @property\n",
    "    def pick_score(self):\n",
    "        return pick_power_calculator(self.powers, self.schedule, self.pick, home_power=self.home_bump)\n",
    "    \n",
    "    def describe_pick(self):\n",
    "        pick_power_calculator(self.powers, self.schedule, self.pick, home_power=self.home_bump, verbose=True)"
   ]
  },
  {
   "cell_type": "code",
   "execution_count": 687,
   "metadata": {},
   "outputs": [
    {
     "name": "stdout",
     "output_type": "stream",
     "text": [
      "week  1: diff +11.8 - picking KC  (+7.4+H) over HOU (-1.4  )\n",
      "week  2: diff +10.5 - picking TEN (-0.0+H) over JAX (-7.5  )\n",
      "week  3: diff +10.4 - picking PHI (+2.5+H) over CIN (-4.9  )\n",
      "week  4: diff  +8.5 - picking BAL (+6.0  ) over WSH (-5.5+H)\n",
      "week  5: diff +11.9 - picking SF  (+4.9+H) over MIA (-4.0  )\n",
      "week  6: diff  +8.2 - picking IND (+0.3+H) over CIN (-4.9  )\n",
      "week  7: diff +12.9 - picking NO  (+5.3+H) over CAR (-4.6  )\n",
      "week  8: diff  +9.8 - picking LAC (-0.7+H) over JAX (-7.5  )\n",
      "week  9: diff  +6.9 - picking MIN (+0.8+H) over DET (-3.1  )\n",
      "week 10: diff +11.1 - picking GB  (+0.6+H) over JAX (-7.5  )\n",
      "week 11: diff  +6.8 - picking SEA (+2.6+H) over ARI (-1.2  )\n",
      "week 12: diff +11.3 - picking DAL (+2.8+H) over WSH (-5.5  )\n",
      "week 13: diff  +9.8 - picking PIT (+1.3+H) over WSH (-5.5  )\n",
      "week 14: diff  +4.8 - picking TB  (+2.6+H) over MIN (+0.8  )\n",
      "week 15: diff  +6.0 - picking LAR (+1.0+H) over NYJ (-2.0  )\n",
      "week 16: diff  +6.5 - picking HOU (-1.4+H) over CIN (-4.9  )\n",
      "week 17: diff  +8.8 - picking BUF (+1.8+H) over MIA (-4.0  )\n"
     ]
    }
   ],
   "source": [
    "pp = PickPermuter(powers, schedule, home_bump=3)\n",
    "pp.describe_pick()"
   ]
  },
  {
   "cell_type": "code",
   "execution_count": 506,
   "metadata": {},
   "outputs": [
    {
     "data": {
      "text/plain": [
       "<matplotlib.collections.PathCollection at 0x7f35f01d7bb0>"
      ]
     },
     "execution_count": 506,
     "metadata": {},
     "output_type": "execute_result"
    },
    {
     "data": {
      "image/png": "[encoded data removed]",
      "text/plain": [
       "<Figure size 432x288 with 1 Axes>"
      ]
     },
     "metadata": {
      "needs_background": "light"
     },
     "output_type": "display_data"
    }
   ],
   "source": [
    "f, ax = plt.subplots()\n",
    "ax.scatter(*zip(*picks), alpha=0.01)\n",
    "\n",
    "ax.scatter(*best_point, color=\"xkcd:orange\")\n",
    "\n",
    "ax.scatter(min(pp.pick_score), sum(pp.pick_score), color=\"xkcd:red\")"
   ]
  },
  {
   "cell_type": "markdown",
   "metadata": {},
   "source": [
    "Waaaay better with the dumb greedy algo"
   ]
  },
  {
   "cell_type": "code",
   "execution_count": 482,
   "metadata": {},
   "outputs": [],
   "source": [
    "pplg = PickPermuter(powers, schedule)\n",
    "pplg.pick = pplg.limited_greedy()"
   ]
  },
  {
   "cell_type": "code",
   "execution_count": 483,
   "metadata": {},
   "outputs": [
    {
     "name": "stdout",
     "output_type": "stream",
     "text": [
      "week  1: diff +11.8 - picking NE  (+2.1+H) over MIA (-3.7  )\n",
      "week  2: diff +10.5 - picking ARI (-1.1+H) over WSH (-5.6  )\n",
      "week  3: diff +10.3 - picking LAC (-0.7+H) over CAR (-5.0  )\n",
      "week  4: diff +11.0 - picking LAR (+1.6+H) over NYG (-3.4  )\n",
      "week  5: diff +10.7 - picking ATL (-0.3+H) over CAR (-5.0  )\n",
      "week  6: diff +11.5 - picking IND (+0.1+H) over CIN (-5.4  )\n",
      "week  7: diff +11.0 - picking BAL (+6.1+H) over PIT (+1.1  )\n",
      "week  8: diff +15.1 - picking KC  (+7.4+H) over NYJ (-1.7  )\n",
      "week  9: diff +10.9 - picking MIN (+0.9+H) over DET (-4.0  )\n",
      "week 10: diff +12.5 - picking PIT (+1.1+H) over CIN (-5.4  )\n",
      "week 11: diff +11.6 - picking NO  (+5.3+H) over ATL (-0.3  )\n",
      "week 12: diff +14.5 - picking DAL (+2.9+H) over WSH (-5.6  )\n",
      "week 13: diff +12.1 - picking SEA (+2.7+H) over NYG (-3.4  )\n",
      "week 14: diff +17.1 - picking SF  (+5.5+H) over WSH (-5.6  )\n",
      "week 15: diff +11.0 - picking GB  (+0.0+H) over CAR (-5.0  )\n",
      "week 16: diff  +9.9 - picking HOU (-1.5+H) over CIN (-5.4  )\n",
      "week 17: diff +11.6 - picking BUF (+1.9+H) over MIA (-3.7  )\n"
     ]
    }
   ],
   "source": [
    "pplg.describe_pick()"
   ]
  },
  {
   "cell_type": "code",
   "execution_count": 484,
   "metadata": {
    "scrolled": true
   },
   "outputs": [
    {
     "data": {
      "text/plain": [
       "<matplotlib.collections.PathCollection at 0x7f35f0830880>"
      ]
     },
     "execution_count": 484,
     "metadata": {},
     "output_type": "execute_result"
    },
    {
     "data": {
      "image/png": "[encoded data removed]",
      "text/plain": [
       "<Figure size 432x288 with 1 Axes>"
      ]
     },
     "metadata": {
      "needs_background": "light"
     },
     "output_type": "display_data"
    }
   ],
   "source": [
    "f, ax = plt.subplots()\n",
    "ax.scatter(*zip(*picks), alpha=0.01)\n",
    "\n",
    "ax.scatter(*best_point, color=\"xkcd:orange\")\n",
    "\n",
    "ax.scatter(min(pp.pick_score), sum(pp.pick_score), color=\"xkcd:red\")\n",
    "ax.scatter(min(pplg.pick_score), sum(pplg.pick_score), color=\"xkcd:purple\")"
   ]
  },
  {
   "cell_type": "code",
   "execution_count": 492,
   "metadata": {},
   "outputs": [
    {
     "name": "stdout",
     "output_type": "stream",
     "text": [
      "week  1: diff +11.9 - picking KC  (+7.4+H) over HOU (-1.5  )\n",
      "week  2: diff +10.5 - picking TB  (+2.5+H) over CAR (-5.0  )\n",
      "week  3: diff +11.1 - picking PHI (+2.7+H) over CIN (-5.4  )\n",
      "week  4: diff  +8.7 - picking BAL (+6.1  ) over WSH (-5.6+H)\n",
      "week  5: diff +12.2 - picking SF  (+5.5+H) over MIA (-3.7  )\n",
      "week  6: diff  +8.5 - picking IND (+0.1+H) over CIN (-5.4  )\n",
      "week  7: diff +13.3 - picking NO  (+5.3+H) over CAR (-5.0  )\n",
      "week  8: diff  +9.8 - picking LAC (-0.7+H) over JAX (-7.5  )\n",
      "week  9: diff  +7.9 - picking MIN (+0.9+H) over DET (-4.0  )\n",
      "week 10: diff +10.5 - picking GB  (+0.0+H) over JAX (-7.5  )\n",
      "week 11: diff  +6.8 - picking SEA (+2.7+H) over ARI (-1.1  )\n",
      "week 12: diff +11.5 - picking DAL (+2.9+H) over WSH (-5.6  )\n",
      "week 13: diff  +9.7 - picking PIT (+1.1+H) over WSH (-5.6  )\n",
      "week 14: diff  +4.3 - picking TEN (-0.2  ) over JAX (-7.5+H)\n",
      "week 15: diff  +6.3 - picking LAR (+1.6+H) over NYJ (-1.7  )\n",
      "week 16: diff  +6.9 - picking HOU (-1.5+H) over CIN (-5.4  )\n",
      "week 17: diff  +8.6 - picking BUF (+1.9+H) over MIA (-3.7  )\n",
      "--------------------\n",
      "week  1: diff  +8.8 - picking NE  (+2.1+H) over MIA (-3.7  )\n",
      "week  2: diff  +7.5 - picking ARI (-1.1+H) over WSH (-5.6  )\n",
      "week  3: diff  +7.3 - picking LAC (-0.7+H) over CAR (-5.0  )\n",
      "week  4: diff  +8.0 - picking LAR (+1.6+H) over NYG (-3.4  )\n",
      "week  5: diff  +7.7 - picking ATL (-0.3+H) over CAR (-5.0  )\n",
      "week  6: diff  +8.5 - picking IND (+0.1+H) over CIN (-5.4  )\n",
      "week  7: diff  +8.0 - picking BAL (+6.1+H) over PIT (+1.1  )\n",
      "week  8: diff +12.1 - picking KC  (+7.4+H) over NYJ (-1.7  )\n",
      "week  9: diff  +7.9 - picking MIN (+0.9+H) over DET (-4.0  )\n",
      "week 10: diff  +9.5 - picking PIT (+1.1+H) over CIN (-5.4  )\n",
      "week 11: diff  +8.6 - picking NO  (+5.3+H) over ATL (-0.3  )\n",
      "week 12: diff +11.5 - picking DAL (+2.9+H) over WSH (-5.6  )\n",
      "week 13: diff  +9.1 - picking SEA (+2.7+H) over NYG (-3.4  )\n",
      "week 14: diff +14.1 - picking SF  (+5.5+H) over WSH (-5.6  )\n",
      "week 15: diff  +8.0 - picking GB  (+0.0+H) over CAR (-5.0  )\n",
      "week 16: diff  +6.9 - picking HOU (-1.5+H) over CIN (-5.4  )\n",
      "week 17: diff  +8.6 - picking BUF (+1.9+H) over MIA (-3.7  )\n"
     ]
    }
   ],
   "source": [
    "ppgh3 = PickPermuter(powers, schedule, home_bump=3)\n",
    "ppgh3.pick = ppgh3.greedy()\n",
    "ppgh3.describe_pick()\n",
    "\n",
    "print(\"-\" * 20)\n",
    "\n",
    "pplgh3 = PickPermuter(powers, schedule, home_bump=3)\n",
    "pplgh3.pick = pplgh3.limited_greedy(7)\n",
    "pplgh3.describe_pick()"
   ]
  },
  {
   "cell_type": "code",
   "execution_count": 493,
   "metadata": {
    "scrolled": true
   },
   "outputs": [
    {
     "data": {
      "text/plain": [
       "<matplotlib.collections.PathCollection at 0x7f35f058fb80>"
      ]
     },
     "execution_count": 493,
     "metadata": {},
     "output_type": "execute_result"
    },
    {
     "data": {
      "image/png": "[encoded data removed]",
      "text/plain": [
       "<Figure size 432x288 with 1 Axes>"
      ]
     },
     "metadata": {
      "needs_background": "light"
     },
     "output_type": "display_data"
    }
   ],
   "source": [
    "f, ax = plt.subplots()\n",
    "ax.scatter(*zip(*picks), alpha=0.01)\n",
    "\n",
    "ax.scatter(*best_point, color=\"xkcd:orange\")\n",
    "\n",
    "ax.scatter(min(pp.pick_score), sum(pp.pick_score), color=\"xkcd:red\")\n",
    "ax.scatter(min(pplg.pick_score), sum(pplg.pick_score), color=\"xkcd:purple\")\n",
    "ax.scatter(min(ppgh3.pick_score), sum(ppgh3.pick_score), color=\"xkcd:yellow\")\n",
    "ax.scatter(min(pplgh3.pick_score), sum(pplgh3.pick_score), color=\"xkcd:green\")"
   ]
  },
  {
   "cell_type": "code",
   "execution_count": 578,
   "metadata": {
    "scrolled": false
   },
   "outputs": [
    {
     "name": "stdout",
     "output_type": "stream",
     "text": [
      "week  1: diff  +9.9 - picking KC  (+7.4+H) over HOU (-1.5  )\n",
      "week  2: diff  +8.5 - picking TB  (+2.5+H) over CAR (-5.0  )\n",
      "week  3: diff  +9.1 - picking PHI (+2.7+H) over CIN (-5.4  )\n",
      "week  4: diff +10.7 - picking BAL (+6.1  ) over WSH (-5.6+H)\n",
      "week  5: diff +10.2 - picking SF  (+5.5+H) over MIA (-3.7  )\n",
      "week  6: diff  +6.5 - picking IND (+0.1+H) over CIN (-5.4  )\n",
      "week  7: diff +11.3 - picking NO  (+5.3+H) over CAR (-5.0  )\n",
      "week  8: diff  +7.8 - picking LAC (-0.7+H) over JAX (-7.5  )\n",
      "week  9: diff  +5.9 - picking MIN (+0.9+H) over DET (-4.0  )\n",
      "week 10: diff  +8.5 - picking GB  (+0.0+H) over JAX (-7.5  )\n",
      "week 11: diff  +7.6 - picking PIT (+1.1  ) over JAX (-7.5+H)\n",
      "week 12: diff  +9.5 - picking DAL (+2.9+H) over WSH (-5.6  )\n",
      "week 13: diff  +7.1 - picking SEA (+2.7+H) over NYG (-3.4  )\n",
      "week 14: diff  +6.3 - picking TEN (-0.2  ) over JAX (-7.5+H)\n",
      "week 15: diff  +4.3 - picking LAR (+1.6+H) over NYJ (-1.7  )\n",
      "week 16: diff  +4.9 - picking HOU (-1.5+H) over CIN (-5.4  )\n",
      "week 17: diff  +6.6 - picking BUF (+1.9+H) over MIA (-3.7  )\n",
      "--------------------\n",
      "week  1: diff  +6.6 - picking IND (+0.1  ) over JAX (-7.5+H)\n",
      "week  2: diff  +6.2 - picking SF  (+5.5  ) over NYJ (-1.7+H)\n",
      "week  3: diff  +6.2 - picking CLE (-0.4+H) over WSH (-5.6  )\n",
      "week  4: diff  +6.3 - picking KC  (+7.4+H) over NE  (+2.1  )\n",
      "week  5: diff  +6.2 - picking LAR (+1.6  ) over WSH (-5.6+H)\n",
      "week  6: diff  +5.0 - picking DAL (+2.9+H) over ARI (-1.1  )\n",
      "week  7: diff  +7.1 - picking PHI (+2.7+H) over NYG (-3.4  )\n",
      "week  8: diff  +7.8 - picking LAC (-0.7+H) over JAX (-7.5  )\n",
      "week  9: diff  +5.9 - picking MIN (+0.9+H) over DET (-4.0  )\n",
      "week 10: diff  +6.5 - picking TB  (+2.5  ) over CAR (-5.0+H)\n",
      "week 11: diff  +6.6 - picking NO  (+5.3+H) over ATL (-0.3  )\n",
      "week 12: diff  +4.2 - picking NE  (+2.1+H) over ARI (-1.1  )\n",
      "week 13: diff  +7.1 - picking SEA (+2.7+H) over NYG (-3.4  )\n",
      "week 14: diff  +6.3 - picking TEN (-0.2  ) over JAX (-7.5+H)\n",
      "week 15: diff +14.6 - picking BAL (+6.1+H) over JAX (-7.5  )\n",
      "week 16: diff  +5.7 - picking CHI (-0.8  ) over JAX (-7.5+H)\n",
      "week 17: diff  +6.6 - picking BUF (+1.9+H) over MIA (-3.7  )\n"
     ]
    }
   ],
   "source": [
    "ppgh1 = PickPermuter(powers, schedule, home_bump=1)\n",
    "ppgh1.pick = ppgh15.greedy()\n",
    "ppgh1.describe_pick()\n",
    "\n",
    "print(\"-\" * 20)\n",
    "\n",
    "pplgh1 = PickPermuter(powers, schedule, home_bump=1)\n",
    "pplgh1.pick = pplgh1.limited_greedy(6)\n",
    "pplgh1.describe_pick()"
   ]
  },
  {
   "cell_type": "code",
   "execution_count": 670,
   "metadata": {},
   "outputs": [],
   "source": [
    "ppv = PickPermuter(powers, schedule, home_bump=2.0)\n",
    "\n",
    "def fitness(scores):\n",
    "    return min(scores) + statistics.mean(scores) / 2\n",
    "\n",
    "fits = []\n",
    "for limiter in np.linspace(4, 10, num=100):\n",
    "    ppv.pick = ppv.limited_greedy(limiter)\n",
    "    fits.append((limiter, min(ppv.pick_score), statistics.mean(ppv.pick_score)))"
   ]
  },
  {
   "cell_type": "code",
   "execution_count": 671,
   "metadata": {},
   "outputs": [
    {
     "data": {
      "image/png": "[encoded data removed]",
      "text/plain": [
       "<Figure size 432x288 with 1 Axes>"
      ]
     },
     "metadata": {
      "needs_background": "light"
     },
     "output_type": "display_data"
    }
   ],
   "source": [
    "f, ax = plt.subplots()\n",
    "x, y1, y2 = zip(*fits)\n",
    "ax.plot(x, y1)\n",
    "ax.plot(x, y2)\n",
    "\n",
    "ppv.pick = ppv.greedy()\n",
    "# ax.plot(10, fitness(ppv.pick_score), \"bo\")"
   ]
  },
  {
   "cell_type": "code",
   "execution_count": 663,
   "metadata": {},
   "outputs": [
    {
     "name": "stdout",
     "output_type": "stream",
     "text": [
      "week  1: diff +10.9 - picking KC  (+7.4+H) over HOU (-1.5  )\n",
      "week  2: diff  +9.5 - picking TB  (+2.5+H) over CAR (-5.0  )\n",
      "week  3: diff +10.1 - picking PHI (+2.7+H) over CIN (-5.4  )\n",
      "week  4: diff  +9.7 - picking BAL (+6.1  ) over WSH (-5.6+H)\n",
      "week  5: diff +11.2 - picking SF  (+5.5+H) over MIA (-3.7  )\n",
      "week  6: diff  +7.5 - picking IND (+0.1+H) over CIN (-5.4  )\n",
      "week  7: diff +12.3 - picking NO  (+5.3+H) over CAR (-5.0  )\n",
      "week  8: diff  +8.8 - picking LAC (-0.7+H) over JAX (-7.5  )\n",
      "week  9: diff  +6.9 - picking MIN (+0.9+H) over DET (-4.0  )\n",
      "week 10: diff  +9.5 - picking GB  (+0.0+H) over JAX (-7.5  )\n",
      "week 11: diff  +6.6 - picking PIT (+1.1  ) over JAX (-7.5+H)\n",
      "week 12: diff +10.5 - picking DAL (+2.9+H) over WSH (-5.6  )\n",
      "week 13: diff  +8.1 - picking SEA (+2.7+H) over NYG (-3.4  )\n",
      "week 14: diff  +5.3 - picking TEN (-0.2  ) over JAX (-7.5+H)\n",
      "week 15: diff  +5.3 - picking LAR (+1.6+H) over NYJ (-1.7  )\n",
      "week 16: diff  +5.9 - picking HOU (-1.5+H) over CIN (-5.4  )\n",
      "week 17: diff  +7.6 - picking BUF (+1.9+H) over MIA (-3.7  )\n"
     ]
    }
   ],
   "source": [
    "ppv.describe_pick()"
   ]
  },
  {
   "cell_type": "code",
   "execution_count": 672,
   "metadata": {},
   "outputs": [
    {
     "name": "stdout",
     "output_type": "stream",
     "text": [
      "week  1: diff  +7.8 - picking NE  (+2.1+H) over MIA (-3.7  )\n",
      "week  2: diff  +7.0 - picking CLE (-0.4+H) over CIN (-5.4  )\n",
      "week  3: diff  +6.9 - picking SF  (+5.5  ) over NYG (-3.4+H)\n",
      "week  4: diff  +7.0 - picking LAR (+1.6+H) over NYG (-3.4  )\n",
      "week  5: diff  +6.7 - picking ATL (-0.3+H) over CAR (-5.0  )\n",
      "week  6: diff  +7.5 - picking IND (+0.1+H) over CIN (-5.4  )\n",
      "week  7: diff  +7.0 - picking BAL (+6.1+H) over PIT (+1.1  )\n",
      "week  8: diff  +8.8 - picking LAC (-0.7+H) over JAX (-7.5  )\n",
      "week  9: diff  +6.9 - picking MIN (+0.9+H) over DET (-4.0  )\n",
      "week 10: diff  +8.5 - picking PIT (+1.1+H) over CIN (-5.4  )\n",
      "week 11: diff  +6.9 - picking KC  (+7.4  ) over LV  (-1.5+H)\n",
      "week 12: diff +10.5 - picking DAL (+2.9+H) over WSH (-5.6  )\n",
      "week 13: diff  +8.1 - picking SEA (+2.7+H) over NYG (-3.4  )\n",
      "week 14: diff  +5.3 - picking TEN (-0.2  ) over JAX (-7.5+H)\n",
      "week 15: diff  +7.0 - picking GB  (+0.0+H) over CAR (-5.0  )\n",
      "week 16: diff  +6.4 - picking NO  (+5.3+H) over MIN (+0.9  )\n",
      "week 17: diff  +7.6 - picking BUF (+1.9+H) over MIA (-3.7  )\n"
     ]
    }
   ],
   "source": [
    "ppv.pick = ppv.limited_greedy(6.6)\n",
    "ppv.describe_pick()"
   ]
  },
  {
   "cell_type": "code",
   "execution_count": 674,
   "metadata": {},
   "outputs": [
    {
     "name": "stdout",
     "output_type": "stream",
     "text": [
      "week  1: diff +10.9 - picking KC  (+7.4+H) over HOU (-1.5  )\n",
      "week  2: diff  +9.3 - picking TEN (-0.2+H) over JAX (-7.5  )\n",
      "week  3: diff +10.1 - picking PHI (+2.7+H) over CIN (-5.4  )\n",
      "week  4: diff  +9.7 - picking BAL (+6.1  ) over WSH (-5.6+H)\n",
      "week  5: diff +11.2 - picking SF  (+5.5+H) over MIA (-3.7  )\n",
      "week  6: diff  +7.5 - picking IND (+0.1+H) over CIN (-5.4  )\n",
      "week  7: diff +12.3 - picking NO  (+5.3+H) over CAR (-5.0  )\n",
      "week  8: diff  +8.8 - picking LAC (-0.7+H) over JAX (-7.5  )\n",
      "week  9: diff  +6.9 - picking MIN (+0.9+H) over DET (-4.0  )\n",
      "week 10: diff  +9.5 - picking GB  (+0.0+H) over JAX (-7.5  )\n",
      "week 11: diff  +6.6 - picking PIT (+1.1  ) over JAX (-7.5+H)\n",
      "week 12: diff +10.5 - picking DAL (+2.9+H) over WSH (-5.6  )\n",
      "week 13: diff  +8.1 - picking SEA (+2.7+H) over NYG (-3.4  )\n",
      "week 14: diff  +3.6 - picking TB  (+2.5+H) over MIN (+0.9  )\n",
      "week 15: diff  +5.3 - picking LAR (+1.6+H) over NYJ (-1.7  )\n",
      "week 16: diff  +5.9 - picking HOU (-1.5+H) over CIN (-5.4  )\n",
      "week 17: diff  +7.6 - picking BUF (+1.9+H) over MIA (-3.7  )\n"
     ]
    }
   ],
   "source": [
    "ppv.pick = ppv.limited_greedy(9)\n",
    "ppv.describe_pick()"
   ]
  },
  {
   "cell_type": "markdown",
   "metadata": {},
   "source": [
    "## What do bettors think the home tilt is?\n",
    "\n",
    "Not sure about the +3 being the standard home tilt, so lets try to correlate the spreads with the power rankings for week 1."
   ]
  },
  {
   "cell_type": "code",
   "execution_count": 517,
   "metadata": {},
   "outputs": [
    {
     "data": {
      "text/plain": [
       "[<Match: SEA @ ATL>,\n",
       " <Match: CLE @ BAL>,\n",
       " <Match: NYJ @ BUF>,\n",
       " <Match: LV @ CAR>,\n",
       " <Match: LAC @ CIN>,\n",
       " <Match: TEN @ DEN>,\n",
       " <Match: CHI @ DET>,\n",
       " <Match: IND @ JAX>,\n",
       " <Match: HOU @ KC>,\n",
       " <Match: DAL @ LAR>,\n",
       " <Match: GB @ MIN>,\n",
       " <Match: MIA @ NE>,\n",
       " <Match: TB @ NO>,\n",
       " <Match: PIT @ NYG>,\n",
       " <Match: ARI @ SF>,\n",
       " <Match: PHI @ WSH>]"
      ]
     },
     "execution_count": 517,
     "metadata": {},
     "output_type": "execute_result"
    }
   ],
   "source": [
    "schedule[1]"
   ]
  },
  {
   "cell_type": "code",
   "execution_count": 524,
   "metadata": {},
   "outputs": [],
   "source": [
    "match_spreads = {\n",
    "    \"HOU@KC\": +9,\n",
    "    \"GB@MIN\": +2.5,\n",
    "    \"CHI@DET\": +3,\n",
    "    \"IND@JAX\": -7.5,\n",
    "    \"LV@CAR\": -3,\n",
    "    \"NYJ@BUF\": +6.5,\n",
    "    \"SEA@ATL\": -2,\n",
    "    \"PHI@WSH\": -6,\n",
    "    \"MIA@NE\": +6.5,\n",
    "    \"CLE@BAL\": +8,\n",
    "    \"LAC@CIN\": -3.5,\n",
    "    \"TB@NO\": +3.5,\n",
    "    \"ARI@SF\": +7,\n",
    "    \"DAL@LAR\": -3,\n",
    "    \"PIT@NYG\": -5.5,\n",
    "    \"TEN@DEN\": -1.5,\n",
    "}\n",
    "assert len(match_spreads) == 16"
   ]
  },
  {
   "cell_type": "code",
   "execution_count": 525,
   "metadata": {},
   "outputs": [],
   "source": [
    "spreads = {}\n",
    "for match, spread in match_spreads.items():\n",
    "    away, home = match.split(\"@\")\n",
    "    spreads[away] = spread\n",
    "    spreads[home] = -spread"
   ]
  },
  {
   "cell_type": "code",
   "execution_count": 556,
   "metadata": {},
   "outputs": [],
   "source": [
    "import scipy.stats"
   ]
  },
  {
   "cell_type": "code",
   "execution_count": 564,
   "metadata": {},
   "outputs": [],
   "source": [
    "bumps = np.linspace(-3, 10, num=50)\n",
    "pg = [pick_grid(powers, schedule, hb)[1][0] for hb in bumps]\n",
    "spread_values = [-spreads[t] for t in power_rank]\n",
    "\n",
    "fits = []\n",
    "for bump, pgg in zip(bumps, pg):\n",
    "    slope, intercept, r_value, p_value, std_err = scipy.stats.linregress(pgg, spread_values)\n",
    "    fits.append((bump, r_value))"
   ]
  },
  {
   "cell_type": "code",
   "execution_count": 565,
   "metadata": {},
   "outputs": [
    {
     "data": {
      "text/plain": [
       "[<matplotlib.lines.Line2D at 0x7f35d1d8ee50>]"
      ]
     },
     "execution_count": 565,
     "metadata": {},
     "output_type": "execute_result"
    },
    {
     "data": {
      "image/png": "[encoded data removed]",
      "text/plain": [
       "<Figure size 432x288 with 1 Axes>"
      ]
     },
     "metadata": {
      "needs_background": "light"
     },
     "output_type": "display_data"
    }
   ],
   "source": [
    "f, ax = plt.subplots()\n",
    "ax.plot(*zip(*fits))"
   ]
  },
  {
   "cell_type": "code",
   "execution_count": 568,
   "metadata": {},
   "outputs": [
    {
     "name": "stdout",
     "output_type": "stream",
     "text": [
      "0.9795918367346941 0.9417638912568919\n"
     ]
    }
   ],
   "source": [
    "bump, r_val = max(fits, key=lambda x: x[1])\n",
    "print(bump, r_val)"
   ]
  },
  {
   "cell_type": "markdown",
   "metadata": {},
   "source": [
    "Bettors assume home bump = 1? that's seems really low..."
   ]
  },
  {
   "cell_type": "code",
   "execution_count": 660,
   "metadata": {},
   "outputs": [
    {
     "name": "stdout",
     "output_type": "stream",
     "text": [
      "2.571428571428572 0.9904817004176452\n"
     ]
    },
    {
     "data": {
      "text/plain": [
       "[<matplotlib.lines.Line2D at 0x7f35d1304be0>]"
      ]
     },
     "execution_count": 660,
     "metadata": {},
     "output_type": "execute_result"
    },
    {
     "data": {
      "image/png": "[encoded data removed]",
      "text/plain": [
       "<Figure size 432x288 with 1 Axes>"
      ]
     },
     "metadata": {
      "needs_background": "light"
     },
     "output_type": "display_data"
    }
   ],
   "source": [
    "# https://www.thelines.com/nfl-week-2-lines-2020/\n",
    "w2_matches = {\n",
    "    \"CIN@CLE\": +7.5,\n",
    "    \"ATL@DAL\": +7,\n",
    "    \"BUF@MIA\": -3,\n",
    "    \"CAR@TB\": +8.5,\n",
    "    \"DEN@PIT\": +5.5,\n",
    "    \"DET@GB\": +6,\n",
    "    \"JAX@TEN\": +10.5,\n",
    "    \"LAR@PHI\": +4,\n",
    "    \"MIN@IND\": +3,\n",
    "    \"NYG@CHI\": +5,\n",
    "    \"SF@NYJ\": -5.5,\n",
    "    \"WSH@ARI\": +6.5,\n",
    "    \"BAL@HOU\": -5.5,\n",
    "    \"KC@LAC\": -6.5,\n",
    "    \"NE@SEA\": +3.5,\n",
    "    \"NO@LV\": -4.5,\n",
    "}\n",
    "w2_spreads = {}\n",
    "for match, spread in w2_matches.items():\n",
    "    away, home = match.split(\"@\")\n",
    "    w2_spreads[away] = spread\n",
    "    w2_spreads[home] = -spread\n",
    "    \n",
    "bumps = np.linspace(-3, 10, num=50)\n",
    "pg = [pick_grid(powers, schedule, hb)[1][1] for hb in bumps]\n",
    "spread_values = [-w2_spreads[t] for t in power_rank]\n",
    "\n",
    "fits = []\n",
    "for bump, pgg in zip(bumps, pg):\n",
    "    slope, intercept, r_value, p_value, std_err = scipy.stats.linregress(pgg, spread_values)\n",
    "    fits.append((bump, r_value))\n",
    "    \n",
    "bump, r_val = max(fits, key=lambda x: x[1])\n",
    "print(bump, r_val)\n",
    "    \n",
    "f, ax = plt.subplots()\n",
    "ax.plot(*zip(*fits))"
   ]
  },
  {
   "cell_type": "markdown",
   "metadata": {},
   "source": [
    "But a 2.5 bump fits best for week 2?"
   ]
  },
  {
   "cell_type": "code",
   "execution_count": null,
   "metadata": {},
   "outputs": [],
   "source": []
  }
 ],
 "metadata": {
  "kernelspec": {
   "display_name": "Global 3.8",
   "language": "python",
   "name": "global3"
  },
  "language_info": {
   "codemirror_mode": {
    "name": "ipython",
    "version": 3
   },
   "file_extension": ".py",
   "mimetype": "text/x-python",
   "name": "python",
   "nbconvert_exporter": "python",
   "pygments_lexer": "ipython3",
   "version": "3.8.2"
  }
 },
 "nbformat": 4,
 "nbformat_minor": 4
}
